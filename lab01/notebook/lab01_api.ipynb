{
  "nbformat": 4,
  "nbformat_minor": 2,
  "metadata": {
    "kernelspec": {
      "name": "python3",
      "display_name": "Python 3",
      "language": "python"
    },
    "language_info": {
      "name": "python",
      "version": "3.7.10",
      "mimetype": "text/x-python",
      "codemirror_mode": {
        "name": "ipython",
        "version": 3
      },
      "pygments_lexer": "ipython3",
      "nbconvert_exporter": "python",
      "file_extension": ".py"
    },
    "toc": {
      "nav_menu": {},
      "number_sections": false,
      "sideBar": false,
      "skip_h1_title": false,
      "base_numbering": 1,
      "title_cell": "Table of Contents",
      "title_sidebar": "Contents",
      "toc_cell": false,
      "toc_position": {},
      "toc_section_display": false,
      "toc_window_display": false
    },
    "colab": {
      "name": "lab01-api.ipynb",
      "provenance": [],
      "collapsed_sections": []
    }
  },
  "cells": [
    {
      "cell_type": "markdown",
      "source": [
        "# Lab 1 - API de Acesso a Dados"
      ],
      "metadata": {
        "id": "oDFv5zgSQsbc"
      }
    },
    {
      "cell_type": "markdown",
      "source": [
        "# Tarefa 1\r\n",
        "\r\n",
        "Das fontes de dados disponíveis, tente encontrar fontes com formatos diferentes e importá-las via Python. Busque pelo menos dois formatos."
      ],
      "metadata": {
        "id": "sNDPvaOWQsbg"
      }
    },
    {
      "cell_type": "code",
      "execution_count": null,
      "source": [
        "import io\r\n",
        "import requests\r\n",
        "import json\r\n",
        "\r\n",
        "url = 'https://imunizacao-es.saude.gov.br/_search'\r\n",
        "user = 'imunizacao_public'\r\n",
        "password = 'qlto5t&7r_@+#Tlstigi'\r\n",
        "\r\n",
        "data = requests.get(url, auth=(user,password)).content\r\n",
        "\r\n",
        "print(data)\r\n",
        "\r\n",
        "\r\n",
        "\r\n",
        "\r\n",
        "\r\n"
      ],
      "outputs": [
        {
          "output_type": "stream",
          "name": "stdout",
          "text": [
            "b'{\"took\":7,\"timed_out\":false,\"_shards\":{\"total\":3,\"successful\":3,\"skipped\":0,\"failed\":0},\"hits\":{\"total\":{\"value\":10000,\"relation\":\"gte\"},\"max_score\":1.0,\"hits\":[{\"_index\":\"desc-imunizacao-v1\",\"_type\":\"_doc\",\"_id\":\"ba917998-d57e-4d7f-afd3-fe96e73bc91d-i0b0\",\"_score\":1.0,\"_source\":{\"paciente_endereco_coIbgeMunicipio\":\"354880\",\"document_id\":\"ba917998-d57e-4d7f-afd3-fe96e73bc91d-i0b0\",\"data_importacao_rnds\":\"2021-03-03T03:03:00.000Z\",\"sistema_origem\":\"VACIVIDA\",\"@version\":\"1\",\"estabelecimento_razaoSocial\":\"PREFEITURA MUNICIPAL DE SAO CAETANO DO SUL\",\"paciente_nacionalidade_enumNacionalidade\":\"B\",\"@timestamp\":\"2021-08-14T14:31:59.321Z\",\"paciente_endereco_coPais\":\"10\",\"vacina_grupoAtendimento_nome\":\"Pessoas de 80 anos ou mais\",\"vacina_grupoAtendimento_codigo\":\"000205\",\"vacina_categoria_codigo\":\"2\",\"vacina_descricao_dose\":\"1\\xc2\\xaa Dose\",\"vacina_categoria_nome\":\"Faixa Et\\xc3\\xa1ria\",\"vacina_lote\":\"4120Z026\",\"paciente_enumSexoBiologico\":\"F\",\"paciente_endereco_nmMunicipio\":\"SAO CAETANO DO SUL\",\"paciente_endereco_uf\":\"SP\",\"paciente_endereco_nmPais\":\"BRASIL\",\"vacina_nome\":\"Vacina Covid-19 - Covishield\",\"dt_deleted\":null,\"paciente_racaCor_valor\":\"BRANCA\",\"paciente_id\":\"8aafae3bb6d71344afa9a72ec6108dc66071f94bb29d5bf2bedc42ffd8d364dc\",\"estabelecimento_valor\":\"5135370\",\"paciente_dataNascimento\":\"1932-09-01\",\"vacina_fabricante_nome\":\"ASTRAZENECA/OXFORD\",\"vacina_dataAplicacao\":\"2021-03-03T00:00:00.000Z\",\"paciente_endereco_cep\":\"09541\",\"estabelecimento_municipio_nome\":\"SAO CAETANO DO SUL\",\"estabelecimento_municipio_codigo\":\"354880\",\"status\":\"final\",\"estabelecimento_uf\":\"SP\",\"id_sistema_origem\":\"18262\",\"paciente_idade\":88,\"vacina_fabricante_referencia\":null,\"vacina_codigo\":\"85\",\"paciente_racaCor_codigo\":\"01\",\"redshift\":\"v3\",\"estalecimento_noFantasia\":\"UBS MOACIR GALLINA\"}},{\"_index\":\"desc-imunizacao-v1\",\"_type\":\"_doc\",\"_id\":\"fc19afd9-cc5e-4a0a-abae-44b633227acc-i0b0\",\"_score\":1.0,\"_source\":{\"paciente_endereco_coIbgeMunicipio\":\"353470\",\"document_id\":\"fc19afd9-cc5e-4a0a-abae-44b633227acc-i0b0\",\"data_importacao_rnds\":\"2021-03-02T03:03:00.000Z\",\"sistema_origem\":\"VACIVIDA\",\"@version\":\"1\",\"estabelecimento_razaoSocial\":\"PREFEITURA MUNICIPAL DE OURINHOS\",\"paciente_nacionalidade_enumNacionalidade\":\"B\",\"@timestamp\":\"2021-08-14T14:31:59.333Z\",\"paciente_endereco_coPais\":\"10\",\"vacina_grupoAtendimento_nome\":\"Pessoas de 80 anos ou mais\",\"vacina_grupoAtendimento_codigo\":\"000205\",\"vacina_categoria_codigo\":\"2\",\"vacina_descricao_dose\":\"1\\xc2\\xaa Dose\",\"vacina_categoria_nome\":\"Faixa Et\\xc3\\xa1ria\",\"vacina_lote\":\"4120Z001\",\"paciente_enumSexoBiologico\":\"F\",\"paciente_endereco_nmMunicipio\":\"OURINHOS\",\"paciente_endereco_uf\":\"SP\",\"paciente_endereco_nmPais\":\"BRASIL\",\"vacina_nome\":\"Vacina Covid-19 - Covishield\",\"dt_deleted\":null,\"paciente_racaCor_valor\":\"SEM INFORMACAO\",\"paciente_id\":\"7cf963006033f8f28dc0fbc1066587a7d9508cc9db08e4c94bde30bb8197a617\",\"estabelecimento_valor\":\"2044617\",\"paciente_dataNascimento\":\"1937-10-12\",\"vacina_fabricante_nome\":\"ASTRAZENECA/OXFORD\",\"vacina_dataAplicacao\":\"2021-03-02T00:00:00.000Z\",\"paciente_endereco_cep\":\"19900\",\"estabelecimento_municipio_nome\":\"OURINHOS\",\"estabelecimento_municipio_codigo\":\"353470\",\"status\":\"final\",\"estabelecimento_uf\":\"SP\",\"id_sistema_origem\":\"18262\",\"paciente_idade\":83,\"vacina_fabricante_referencia\":null,\"vacina_codigo\":\"85\",\"paciente_racaCor_codigo\":\"99\",\"redshift\":\"v3\",\"estalecimento_noFantasia\":\"CS I DE OURINHOS\"}},{\"_index\":\"desc-imunizacao-v1\",\"_type\":\"_doc\",\"_id\":\"a30b1a95-647f-41df-96cd-fc4ea096c355-i0b0\",\"_score\":1.0,\"_source\":{\"paciente_endereco_coIbgeMunicipio\":\"353580\",\"document_id\":\"a30b1a95-647f-41df-96cd-fc4ea096c355-i0b0\",\"data_importacao_rnds\":\"2021-03-03T03:03:00.000Z\",\"sistema_origem\":\"VACIVIDA\",\"@version\":\"1\",\"estabelecimento_razaoSocial\":\"MUNICIPIO DE PARANAPANEMA\",\"paciente_nacionalidade_enumNacionalidade\":\"B\",\"@timestamp\":\"2021-08-14T14:31:58.952Z\",\"paciente_endereco_coPais\":\"10\",\"vacina_grupoAtendimento_nome\":\"Pessoas de 75 a 79 anos\",\"vacina_grupoAtendimento_codigo\":\"000204\",\"vacina_categoria_codigo\":\"2\",\"vacina_descricao_dose\":\"2\\xc2\\xaa Dose\",\"vacina_categoria_nome\":\"Faixa Et\\xc3\\xa1ria\",\"vacina_lote\":\"210037\",\"paciente_enumSexoBiologico\":\"M\",\"paciente_endereco_nmMunicipio\":\"PARANAPANEMA\",\"paciente_endereco_uf\":\"SP\",\"paciente_endereco_nmPais\":\"BRASIL\",\"vacina_nome\":\"Covid-19-Coronavac-Sinovac/Butantan\",\"dt_deleted\":null,\"paciente_racaCor_valor\":\"PARDA\",\"paciente_id\":\"4ebb8a82d23ec23942fe5fca94a6c5da4790e0b0294f0cdd69c8049f6116e16a\",\"estabelecimento_valor\":\"7828195\",\"paciente_dataNascimento\":\"1942-03-13\",\"vacina_fabricante_nome\":\"SINOVAC\",\"vacina_dataAplicacao\":\"2021-03-03T00:00:00.000Z\",\"paciente_endereco_cep\":\"18720\",\"estabelecimento_municipio_nome\":\"PARANAPANEMA\",\"estabelecimento_municipio_codigo\":\"353580\",\"status\":\"final\",\"estabelecimento_uf\":\"SP\",\"id_sistema_origem\":\"18262\",\"paciente_idade\":78,\"vacina_fabricante_referencia\":null,\"vacina_codigo\":\"86\",\"paciente_racaCor_codigo\":\"03\",\"redshift\":\"v3\",\"estalecimento_noFantasia\":\"UNIDADE DE SAUDE DA FAMILIA IRMA GUILHERMINA\"}},{\"_index\":\"desc-imunizacao-v1\",\"_type\":\"_doc\",\"_id\":\"abd23368-5feb-4873-b9e0-2ec02dd1306b-i0b0\",\"_score\":1.0,\"_source\":{\"paciente_endereco_coIbgeMunicipio\":\"240930\",\"document_id\":\"abd23368-5feb-4873-b9e0-2ec02dd1306b-i0b0\",\"data_importacao_rnds\":\"2021-03-29T22:49:46.000Z\",\"sistema_origem\":\"RN + Vacina\",\"@version\":\"1\",\"estabelecimento_razaoSocial\":\"PREFEITURA MUNICIPAL DE PATU\",\"paciente_nacionalidade_enumNacionalidade\":\"B\",\"@timestamp\":\"2021-08-14T14:31:58.952Z\",\"paciente_endereco_coPais\":\"10\",\"vacina_grupoAtendimento_nome\":\"Pessoas de 75 a 79 anos\",\"vacina_grupoAtendimento_codigo\":\"000204\",\"vacina_categoria_codigo\":\"2\",\"vacina_descricao_dose\":\"1\\xc2\\xaa Dose\",\"vacina_categoria_nome\":\"Faixa Et\\xc3\\xa1ria\",\"vacina_lote\":\"210050\",\"paciente_enumSexoBiologico\":\"M\",\"paciente_endereco_nmMunicipio\":\"PATU\",\"paciente_endereco_uf\":\"RN\",\"paciente_endereco_nmPais\":\"BRASIL\",\"vacina_nome\":\"Covid-19-Coronavac-Sinovac/Butantan\",\"dt_deleted\":null,\"paciente_racaCor_valor\":\"BRANCA\",\"paciente_id\":\"f6855721ab3744942cabb65dda671158268cc9719665ab450a9f869a79806e09\",\"estabelecimento_valor\":\"3037703\",\"paciente_dataNascimento\":\"1945-09-29\",\"vacina_fabricante_nome\":\"FUNDACAO BUTANTAN\",\"vacina_dataAplicacao\":\"2021-03-18T00:00:00.000Z\",\"paciente_endereco_cep\":\"59770\",\"estabelecimento_municipio_nome\":\"PATU\",\"estabelecimento_municipio_codigo\":\"240930\",\"status\":\"final\",\"estabelecimento_uf\":\"RN\",\"id_sistema_origem\":\"17862\",\"paciente_idade\":75,\"vacina_fabricante_referencia\":null,\"vacina_codigo\":\"86\",\"paciente_racaCor_codigo\":\"01\",\"redshift\":\"v3\",\"estalecimento_noFantasia\":\"UNIDADE DE SAUDE DA FAMILIA ROSALITA FORTE DANTAS\"}},{\"_index\":\"desc-imunizacao-v1\",\"_type\":\"_doc\",\"_id\":\"229a4d31-0c22-42d4-b909-0fb2b81f9f82-i0b0\",\"_score\":1.0,\"_source\":{\"paciente_endereco_coIbgeMunicipio\":\"355030\",\"document_id\":\"229a4d31-0c22-42d4-b909-0fb2b81f9f82-i0b0\",\"data_importacao_rnds\":\"2021-03-02T03:03:00.000Z\",\"sistema_origem\":\"VACIVIDA\",\"@version\":\"1\",\"estabelecimento_razaoSocial\":\"PREFEITURA DO MUNICIPIO DE SAO PAULO\",\"paciente_nacionalidade_enumNacionalidade\":\"B\",\"@timestamp\":\"2021-08-14T14:31:59.231Z\",\"paciente_endereco_coPais\":\"10\",\"vacina_grupoAtendimento_nome\":\"Pessoas de 80 anos ou mais\",\"vacina_grupoAtendimento_codigo\":\"000205\",\"vacina_categoria_codigo\":\"2\",\"vacina_descricao_dose\":\"1\\xc2\\xaa Dose\",\"vacina_categoria_nome\":\"Faixa Et\\xc3\\xa1ria\",\"vacina_lote\":\"210041\",\"paciente_enumSexoBiologico\":\"F\",\"paciente_endereco_nmMunicipio\":\"SAO PAULO\",\"paciente_endereco_uf\":\"SP\",\"paciente_endereco_nmPais\":\"BRASIL\",\"vacina_nome\":\"Covid-19-Coronavac-Sinovac/Butantan\",\"dt_deleted\":null,\"paciente_racaCor_valor\":\"SEM INFORMACAO\",\"paciente_id\":\"187744e069c8ceabb2b6368d747b0b3a501904d287c176b0d52b24b503960b0b\",\"estabelecimento_valor\":\"2788993\",\"paciente_dataNascimento\":\"1941-01-07\",\"vacina_fabricante_nome\":\"SINOVAC\",\"vacina_dataAplicacao\":\"2021-03-02T00:00:00.000Z\",\"paciente_endereco_cep\":\"02242\",\"estabelecimento_municipio_nome\":\"SAO PAULO\",\"estabelecimento_municipio_codigo\":\"355030\",\"status\":\"final\",\"estabelecimento_uf\":\"SP\",\"id_sistema_origem\":\"18262\",\"paciente_idade\":80,\"vacina_fabricante_referencia\":null,\"vacina_codigo\":\"86\",\"paciente_racaCor_codigo\":\"99\",\"redshift\":\"v3\",\"estalecimento_noFantasia\":\"UBS VILA IZOLINA MAZZEI\"}},{\"_index\":\"desc-imunizacao-v1\",\"_type\":\"_doc\",\"_id\":\"07186d24-9d97-4ee3-92b6-0e5572f3d465-i0b0\",\"_score\":1.0,\"_source\":{\"paciente_endereco_coIbgeMunicipio\":\"353070\",\"document_id\":\"07186d24-9d97-4ee3-92b6-0e5572f3d465-i0b0\",\"data_importacao_rnds\":\"2021-03-04T03:03:00.000Z\",\"sistema_origem\":\"VACIVIDA\",\"@version\":\"1\",\"estabelecimento_razaoSocial\":\"MUNICIPIO DE MOGI GUACU\",\"paciente_nacionalidade_enumNacionalidade\":\"B\",\"@timestamp\":\"2021-08-14T14:31:58.961Z\",\"paciente_endereco_coPais\":\"10\",\"vacina_grupoAtendimento_nome\":\"Pessoas de 80 anos ou mais\",\"vacina_grupoAtendimento_codigo\":\"000205\",\"vacina_categoria_codigo\":\"2\",\"vacina_descricao_dose\":\"2\\xc2\\xaa Dose\",\"vacina_categoria_nome\":\"Faixa Et\\xc3\\xa1ria\",\"vacina_lote\":\"210046\",\"paciente_enumSexoBiologico\":\"F\",\"paciente_endereco_nmMunicipio\":\"MOGI GUACU\",\"paciente_endereco_uf\":\"SP\",\"paciente_endereco_nmPais\":\"BRASIL\",\"vacina_nome\":\"Covid-19-Coronavac-Sinovac/Butantan\",\"dt_deleted\":null,\"paciente_racaCor_valor\":\"BRANCA\",\"paciente_id\":\"e618345ed7178124aef6bcec30bb371ee53ee53ab94ac6feb095a4a936f590db\",\"estabelecimento_valor\":\"7975848\",\"paciente_dataNascimento\":\"1929-05-24\",\"vacina_fabricante_nome\":\"SINOVAC\",\"vacina_dataAplicacao\":\"2021-03-04T00:00:00.000Z\",\"paciente_endereco_cep\":\"13843\",\"estabelecimento_municipio_nome\":\"MOGI GUACU\",\"estabelecimento_municipio_codigo\":\"353070\",\"status\":\"final\",\"estabelecimento_uf\":\"SP\",\"id_sistema_origem\":\"18262\",\"paciente_idade\":91,\"vacina_fabricante_referencia\":null,\"vacina_codigo\":\"86\",\"paciente_racaCor_codigo\":\"01\",\"redshift\":\"v3\",\"estalecimento_noFantasia\":\"USF ROSA CRUZ\"}},{\"_index\":\"desc-imunizacao-v1\",\"_type\":\"_doc\",\"_id\":\"07d37703-3b1c-43b7-8dba-273e90d897f6-i0b0\",\"_score\":1.0,\"_source\":{\"paciente_endereco_coIbgeMunicipio\":\"352220\",\"document_id\":\"07d37703-3b1c-43b7-8dba-273e90d897f6-i0b0\",\"data_importacao_rnds\":\"2021-03-01T03:03:00.000Z\",\"sistema_origem\":\"VACIVIDA\",\"@version\":\"1\",\"estabelecimento_razaoSocial\":\"PREFEITURA DO MUNICIPIO DE SAO PAULO\",\"paciente_nacionalidade_enumNacionalidade\":\"B\",\"@timestamp\":\"2021-08-14T14:31:58.962Z\",\"paciente_endereco_coPais\":\"10\",\"vacina_grupoAtendimento_nome\":\"Pessoas de 80 anos ou mais\",\"vacina_grupoAtendimento_codigo\":\"000205\",\"vacina_categoria_codigo\":\"2\",\"vacina_descricao_dose\":\"1\\xc2\\xaa Dose\",\"vacina_categoria_nome\":\"Faixa Et\\xc3\\xa1ria\",\"vacina_lote\":\"4120Z005\",\"paciente_enumSexoBiologico\":\"F\",\"paciente_endereco_nmMunicipio\":\"ITAPECERICA DA SERRA\",\"paciente_endereco_uf\":\"SP\",\"paciente_endereco_nmPais\":\"BRASIL\",\"vacina_nome\":\"Vacina Covid-19 - Covishield\",\"dt_deleted\":null,\"paciente_racaCor_valor\":\"PRETA\",\"paciente_id\":\"ce4c2a268286415cd0678083c97379f373af6d98ba3e6163ce248fc67bb2a9be\",\"estabelecimento_valor\":\"3049213\",\"paciente_dataNascimento\":\"1940-09-08\",\"vacina_fabricante_nome\":\"ASTRAZENECA/OXFORD\",\"vacina_dataAplicacao\":\"2021-03-01T00:00:00.000Z\",\"paciente_endereco_cep\":\"06856\",\"estabelecimento_municipio_nome\":\"SAO PAULO\",\"estabelecimento_municipio_codigo\":\"355030\",\"status\":\"final\",\"estabelecimento_uf\":\"SP\",\"id_sistema_origem\":\"18262\",\"paciente_idade\":80,\"vacina_fabricante_referencia\":null,\"vacina_codigo\":\"85\",\"paciente_racaCor_codigo\":\"02\",\"redshift\":\"v3\",\"estalecimento_noFantasia\":\"UBS CHACARA STA MARIA\"}},{\"_index\":\"desc-imunizacao-v1\",\"_type\":\"_doc\",\"_id\":\"8cbea272-d979-4832-8d27-15c507349ab5-i0b0\",\"_score\":1.0,\"_source\":{\"paciente_endereco_coIbgeMunicipio\":\"355030\",\"document_id\":\"8cbea272-d979-4832-8d27-15c507349ab5-i0b0\",\"data_importacao_rnds\":\"2021-03-03T03:03:00.000Z\",\"sistema_origem\":\"VACIVIDA\",\"@version\":\"1\",\"estabelecimento_razaoSocial\":\"PREFEITURA DO MUNICIPIO DE SAO PAULO\",\"paciente_nacionalidade_enumNacionalidade\":\"B\",\"@timestamp\":\"2021-08-14T14:31:58.963Z\",\"paciente_endereco_coPais\":\"10\",\"vacina_grupoAtendimento_nome\":\"Pessoas de 75 a 79 anos\",\"vacina_grupoAtendimento_codigo\":\"000204\",\"vacina_categoria_codigo\":\"2\",\"vacina_descricao_dose\":\"1\\xc2\\xaa Dose\",\"vacina_categoria_nome\":\"Faixa Et\\xc3\\xa1ria\",\"vacina_lote\":\"4120Z026\",\"paciente_enumSexoBiologico\":\"F\",\"paciente_endereco_nmMunicipio\":\"SAO PAULO\",\"paciente_endereco_uf\":\"SP\",\"paciente_endereco_nmPais\":\"BRASIL\",\"vacina_nome\":\"Vacina Covid-19 - Covishield\",\"dt_deleted\":null,\"paciente_racaCor_valor\":\"SEM INFORMACAO\",\"paciente_id\":\"b8aacee357c9245753cc880c28a1eb27b2d0063618e3132368bd90c9ccdc5fff\",\"estabelecimento_valor\":\"9788409\",\"paciente_dataNascimento\":\"1943-04-27\",\"vacina_fabricante_nome\":\"ASTRAZENECA/OXFORD\",\"vacina_dataAplicacao\":\"2021-03-03T00:00:00.000Z\",\"paciente_endereco_cep\":\"04840\",\"estabelecimento_municipio_nome\":\"SAO PAULO\",\"estabelecimento_municipio_codigo\":\"355030\",\"status\":\"final\",\"estabelecimento_uf\":\"SP\",\"id_sistema_origem\":\"18262\",\"paciente_idade\":77,\"vacina_fabricante_referencia\":null,\"vacina_codigo\":\"85\",\"paciente_racaCor_codigo\":\"99\",\"redshift\":\"v3\",\"estalecimento_noFantasia\":\"UBS ANCHIETA\"}},{\"_index\":\"desc-imunizacao-v1\",\"_type\":\"_doc\",\"_id\":\"fc56f1e5-a3a0-4cfc-9ea9-8db3a2b9f153-i0b0\",\"_score\":1.0,\"_source\":{\"paciente_endereco_coIbgeMunicipio\":\"500370\",\"document_id\":\"fc56f1e5-a3a0-4cfc-9ea9-8db3a2b9f153-i0b0\",\"data_importacao_rnds\":\"2021-03-29T20:30:22.000Z\",\"sistema_origem\":\"Novo PNI\",\"@version\":\"1\",\"estabelecimento_razaoSocial\":\"MUNICIPIO DE DOURADOS\",\"paciente_nacionalidade_enumNacionalidade\":\"B\",\"@timestamp\":\"2021-08-14T14:31:58.964Z\",\"paciente_endereco_coPais\":\"10\",\"vacina_grupoAtendimento_nome\":\"Pessoas de 80 anos ou mais\",\"vacina_grupoAtendimento_codigo\":\"000205\",\"vacina_categoria_codigo\":\"2\",\"vacina_descricao_dose\":\"2\\xc2\\xaa Dose\",\"vacina_categoria_nome\":\"Faixa Et\\xc3\\xa1ria\",\"vacina_lote\":\"210042A\",\"paciente_enumSexoBiologico\":\"M\",\"paciente_endereco_nmMunicipio\":\"DOURADOS\",\"paciente_endereco_uf\":\"MS\",\"paciente_endereco_nmPais\":\"BRASIL\",\"vacina_nome\":\"Covid-19-Coronavac-Sinovac/Butantan\",\"dt_deleted\":null,\"paciente_racaCor_valor\":\"PARDA\",\"paciente_id\":\"ba1a2f385b091a5bd64b4c190860fffab12caced42ba2426a63e87c2da9befb9\",\"estabelecimento_valor\":\"7489102\",\"paciente_dataNascimento\":\"1934-04-27\",\"vacina_fabricante_nome\":\"FUNDACAO BUTANTAN\",\"vacina_dataAplicacao\":\"2021-03-29T00:00:00.000Z\",\"paciente_endereco_cep\":\"79814\",\"estabelecimento_municipio_nome\":\"DOURADOS\",\"estabelecimento_municipio_codigo\":\"500370\",\"status\":\"final\",\"estabelecimento_uf\":\"MS\",\"id_sistema_origem\":\"16341\",\"paciente_idade\":86,\"vacina_fabricante_referencia\":\"Organization/61189445000156\",\"vacina_codigo\":\"86\",\"paciente_racaCor_codigo\":\"03\",\"redshift\":\"v3\",\"estalecimento_noFantasia\":\"UNIDADE BASICA DE SAUDE ERISVALDO MENDONCA DOS SANTOS\"}},{\"_index\":\"desc-imunizacao-v1\",\"_type\":\"_doc\",\"_id\":\"a6a0dcab-571f-409a-b5a1-8354b7c5235b-i0b0\",\"_score\":1.0,\"_source\":{\"paciente_endereco_coIbgeMunicipio\":\"354850\",\"document_id\":\"a6a0dcab-571f-409a-b5a1-8354b7c5235b-i0b0\",\"data_importacao_rnds\":\"2021-03-02T03:03:00.000Z\",\"sistema_origem\":\"VACIVIDA\",\"@version\":\"1\",\"estabelecimento_razaoSocial\":\"MUNICIPIO DE SANTOS\",\"paciente_nacionalidade_enumNacionalidade\":\"B\",\"@timestamp\":\"2021-08-14T14:31:58.965Z\",\"paciente_endereco_coPais\":\"10\",\"vacina_grupoAtendimento_nome\":\"Outros\",\"vacina_grupoAtendimento_codigo\":\"000926\",\"vacina_categoria_codigo\":\"9\",\"vacina_descricao_dose\":\"2\\xc2\\xaa Dose\",\"vacina_categoria_nome\":\"Trabalhadores de Sa\\xc3\\xbade\",\"vacina_lote\":\"210043\",\"paciente_enumSexoBiologico\":\"F\",\"paciente_endereco_nmMunicipio\":\"SANTOS\",\"paciente_endereco_uf\":\"SP\",\"paciente_endereco_nmPais\":\"BRASIL\",\"vacina_nome\":\"Covid-19-Coronavac-Sinovac/Butantan\",\"dt_deleted\":null,\"paciente_racaCor_valor\":\"BRANCA\",\"paciente_id\":\"3bf4a71c3988fbc9c2c9ddad369a738afaaf89e66128f591a00fffcee056e37a\",\"estabelecimento_valor\":\"2034387\",\"paciente_dataNascimento\":\"1978-11-22\",\"vacina_fabricante_nome\":\"SINOVAC\",\"vacina_dataAplicacao\":\"2021-03-02T00:00:00.000Z\",\"paciente_endereco_cep\":\"11040\",\"estabelecimento_municipio_nome\":\"SANTOS\",\"estabelecimento_municipio_codigo\":\"354850\",\"status\":\"final\",\"estabelecimento_uf\":\"SP\",\"id_sistema_origem\":\"18262\",\"paciente_idade\":42,\"vacina_fabricante_referencia\":null,\"vacina_codigo\":\"86\",\"paciente_racaCor_codigo\":\"01\",\"redshift\":\"v3\",\"estalecimento_noFantasia\":\"SEUB DE SAUDE DA PONTA DA PRAIA\"}}]}}'\n"
          ]
        }
      ],
      "metadata": {
        "trusted": true,
        "id": "NsvxpnHjQsbh",
        "outputId": "30d4e5f4-5937-45f6-beb1-d8f0e3783ee9"
      }
    },
    {
      "cell_type": "code",
      "execution_count": 7,
      "source": [
        "import pandas as pd\r\n",
        "import requests\r\n",
        "import io\r\n",
        "\r\n",
        "url = 'https://opendatasus.saude.gov.br/dataset/57c4b23e-6ffa-43ef-a1e7-23103f73f376/resource/da17c5f6-aa89-4e7d-b7e2-ec4b77a5dc31/download/do2021opendata.csv'\r\n",
        "\r\n",
        "data = requests.get(url).content\r\n",
        "csv = pd.read_csv(io.StringIO(data.decode('utf-8')),sep=';')\r\n",
        "\r\n",
        "print(csv)"
      ],
      "outputs": [
        {
          "output_type": "stream",
          "name": "stderr",
          "text": [
            "/usr/local/lib/python3.7/dist-packages/IPython/core/interactiveshell.py:2718: DtypeWarning: Columns (6,67) have mixed types.Specify dtype option on import or set low_memory=False.\n",
            "  interactivity=interactivity, compiler=compiler, result=result)\n"
          ]
        },
        {
          "output_type": "stream",
          "name": "stdout",
          "text": [
            "        CONTADOR        CODINST  ORIGEM  ...  TPPOS  TP_ALTERA  CB_ALT\n",
            "0              1  EGO5208700001       1  ...    NaN        NaN     NaN\n",
            "1              2  EGO5208700001       1  ...    NaN        NaN     NaN\n",
            "2              3  MPE2612800001       1  ...      N        NaN     NaN\n",
            "3              4  MRS4304600001       1  ...    NaN        NaN     NaN\n",
            "4              5  MMG3113300001       1  ...      N        NaN     NaN\n",
            "...          ...            ...     ...  ...    ...        ...     ...\n",
            "636713    636714  FPA1500609999       1  ...    NaN        NaN     NaN\n",
            "636714    636715  FPA1500609999       1  ...    NaN        NaN     NaN\n",
            "636715    636716  FPA1500609999       1  ...    NaN        NaN     NaN\n",
            "636716    636717  FAM1300909999       1  ...    NaN        NaN     NaN\n",
            "636717    636718  FPA1500609999       1  ...    NaN        NaN     NaN\n",
            "\n",
            "[636718 rows x 88 columns]\n"
          ]
        }
      ],
      "metadata": {
        "trusted": true,
        "colab": {
          "base_uri": "https://localhost:8080/"
        },
        "id": "z_lcUe0uQsbj",
        "outputId": "ccbd39ce-b4fd-43c6-ba8e-704b79544fdc"
      }
    },
    {
      "cell_type": "markdown",
      "source": [
        "# Tarefa 2\r\n",
        "\r\n",
        "## Engenharia reversa\r\n",
        "\r\n",
        "Monte um diagramas que representem modelos dos dados que você terá acesso e como pretende associá-los. Coloque abaixo uma imagem do diagrama."
      ],
      "metadata": {
        "id": "uFU4rn76Qsbk"
      }
    },
    {
      "cell_type": "markdown",
      "source": [
        "[![Modelo logico do banco 1](https://raw.githubusercontent.com/josehenriquerecio/labs-mc536/main/lab01/images/lab1.png)](https://github.com/josehenriquerecio/labs-mc536/blob/main/lab01/images/lab1.png)"
      ],
      "metadata": {}
    }
  ]
}