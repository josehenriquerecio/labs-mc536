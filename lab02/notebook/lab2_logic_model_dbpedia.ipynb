{
  "nbformat": 4,
  "nbformat_minor": 5,
  "metadata": {
    "kernelspec": {
      "name": "python3",
      "display_name": "Python 3.9.5 64-bit"
    },
    "language_info": {
      "codemirror_mode": {
        "name": "ipython",
        "version": 3
      },
      "file_extension": ".py",
      "mimetype": "text/x-python",
      "name": "python",
      "nbconvert_exporter": "python",
      "pygments_lexer": "ipython3",
      "version": "3.9.5"
    },
    "colab": {
      "name": "lab2-logic-model-dbpedia.ipynb",
      "provenance": []
    },
    "interpreter": {
      "hash": "ce1e901da04acbe50dd99cd0d91cb411cb2166c3507dec81ce620981a8df4741"
    }
  },
  "cells": [
    {
      "cell_type": "markdown",
      "source": [
        "# Laboratório 2"
      ],
      "metadata": {
        "id": "monetary-oakland"
      }
    },
    {
      "cell_type": "markdown",
      "source": [
        "## Tarefa 1\n",
        "\n",
        "### Carregue o nó de Tenda dos Milagres (da versão em inglês Tent of Miracles) em Python e mostre o conteúdo JSON."
      ],
      "metadata": {
        "id": "bridal-netscape"
      }
    },
    {
      "cell_type": "code",
      "execution_count": 2,
      "source": [
        "import io\r\n",
        "import requests\r\n",
        "import json\r\n",
        "\r\n",
        "url_tent = \"http://dbpedia.org/data/Tent_of_Miracles_(novel).jsod\"\r\n",
        "\r\n",
        "data_tent = requests.get(url_tent)\r\n",
        "json_tent = data_tent.json()\r\n",
        "\r\n",
        "print(json.dumps(json_tent, indent=3))\r\n"
      ],
      "outputs": [
        {
          "output_type": "stream",
          "name": "stdout",
          "text": [
            "{\n",
            "   \"d\": {\n",
            "      \"results\": [\n",
            "         {\n",
            "            \"__metadata\": {\n",
            "               \"uri\": \"http://dbpedia.org/resource/Tent_of_Miracles_(novel)\"\n",
            "            },\n",
            "            \"http://www.w3.org/2000/01/rdf-schema#label\": \"Tent of Miracles (novel)\",\n",
            "            \"http://dbpedia.org/ontology/wikiPageWikiLink\": {\n",
            "               \"__deferred\": {\n",
            "                  \"uri\": \"http://dbpedia.org/resource/French_New_Wave\"\n",
            "               }\n",
            "            },\n",
            "            \"http://purl.org/dc/terms/subject\": {\n",
            "               \"__deferred\": {\n",
            "                  \"uri\": \"http://dbpedia.org/resource/Category:Modernist_novels\"\n",
            "               }\n",
            "            },\n",
            "            \"http://www.w3.org/1999/02/22-rdf-syntax-ns#type\": {\n",
            "               \"__deferred\": {\n",
            "                  \"uri\": \"http://dbpedia.org/ontology/WrittenWork\"\n",
            "               }\n",
            "            },\n",
            "            \"http://dbpedia.org/property/wikiPageUsesTemplate\": {\n",
            "               \"__deferred\": {\n",
            "                  \"uri\": \"http://dbpedia.org/resource/Template:According_to_whom\"\n",
            "               }\n",
            "            },\n",
            "            \"http://www.w3.org/2000/01/rdf-schema#comment\": \"Tent of Miracles (Portuguese: Tenda dos Milagres) is a Brazilian Modernist novel. It was written by Jorge Amado in 1967 and published the following year. It was later adapted to a 1977 Cinema Novo (Nouvelle Vague) film by director/screenplay writer Nelson Pereira dos Santos.\",\n",
            "            \"http://dbpedia.org/ontology/abstract\": \"La bottega dei miracoli \\u00e8 un romanzo di Jorge Amado pubblicato nel 1960. Come altri romanzi dell&#39;autore (ad esempio Tieta d&#39;Agreste e Teresa Batista) \\u00e8 un testo composito, con un intreccio zigzagante fra analessi e prolessi, con mutamenti di voci narranti ed inserti di materiale eterogeneo.\\u00c8 possibile che l&#39;evento scatenante del racconto (la visita del famoso scienziato) sia stato ispirato dall&#39;esperienza vissuta; in quello stesso 1960, infatti, Jean Paul Sartre e Simone De Beauvoir visitarono il Brasile su invito dello stesso Amado: la visita divenne un evento mediatico, celebrato in numerose manifestazioni istituzionali.\",\n",
            "            \"http://dbpedia.org/property/pubDate\": \"1969\",\n",
            "            \"http://dbpedia.org/property/country\": {\n",
            "               \"__deferred\": {\n",
            "                  \"uri\": \"http://dbpedia.org/resource/Brazil\"\n",
            "               }\n",
            "            },\n",
            "            \"http://www.w3.org/2002/07/owl#sameAs\": {\n",
            "               \"__deferred\": {\n",
            "                  \"uri\": \"http://rdf.freebase.com/ns/m.02xrs4\"\n",
            "               }\n",
            "            },\n",
            "            \"http://dbpedia.org/ontology/wikiPageRevisionID\": \"974212123\",\n",
            "            \"http://dbpedia.org/property/author\": {\n",
            "               \"__deferred\": {\n",
            "                  \"uri\": \"http://dbpedia.org/resource/Jorge_Amado\"\n",
            "               }\n",
            "            },\n",
            "            \"http://dbpedia.org/ontology/author\": {\n",
            "               \"__deferred\": {\n",
            "                  \"uri\": \"http://dbpedia.org/resource/Jorge_Amado\"\n",
            "               }\n",
            "            },\n",
            "            \"http://xmlns.com/foaf/0.1/name\": \"Tenda dos Milagres\",\n",
            "            \"http://dbpedia.org/property/englishPubDate\": \"1971\",\n",
            "            \"http://dbpedia.org/ontology/country\": {\n",
            "               \"__deferred\": {\n",
            "                  \"uri\": \"http://dbpedia.org/resource/Brazil\"\n",
            "               }\n",
            "            },\n",
            "            \"http://dbpedia.org/property/name\": \"Tent of Miracles\",\n",
            "            \"http://purl.org/linguistics/gold/hypernym\": {\n",
            "               \"__deferred\": {\n",
            "                  \"uri\": \"http://dbpedia.org/resource/Novel\"\n",
            "               }\n",
            "            },\n",
            "            \"http://dbpedia.org/property/titleOrig\": \"Tenda dos Milagres\",\n",
            "            \"http://dbpedia.org/ontology/publisher\": {\n",
            "               \"__deferred\": {\n",
            "                  \"uri\": \"http://dbpedia.org/resource/Brazil\"\n",
            "               }\n",
            "            },\n",
            "            \"http://dbpedia.org/ontology/language\": {\n",
            "               \"__deferred\": {\n",
            "                  \"uri\": \"http://dbpedia.org/resource/Portuguese_language\"\n",
            "               }\n",
            "            },\n",
            "            \"http://www.w3.org/ns/prov#wasDerivedFrom\": {\n",
            "               \"__deferred\": {\n",
            "                  \"uri\": \"http://en.wikipedia.org/wiki/Tent_of_Miracles_(novel)?oldid=974212123&ns=0\"\n",
            "               }\n",
            "            },\n",
            "            \"http://dbpedia.org/ontology/wikiPageLength\": \"5253\",\n",
            "            \"http://purl.org/dc/elements/1.1/publisher\": \"Martins, Sao Paulo, Brazil\",\n",
            "            \"http://dbpedia.org/property/language\": {\n",
            "               \"__deferred\": {\n",
            "                  \"uri\": \"http://dbpedia.org/resource/Portuguese_language\"\n",
            "               }\n",
            "            },\n",
            "            \"http://dbpedia.org/ontology/wikiPageID\": \"623351\",\n",
            "            \"http://dbpedia.org/property/publisher\": \"Martins, Sao Paulo, Brazil\",\n",
            "            \"http://dbpedia.org/property/caption\": \"First edition\",\n",
            "            \"http://xmlns.com/foaf/0.1/isPrimaryTopicOf\": {\n",
            "               \"__deferred\": {\n",
            "                  \"uri\": \"http://en.wikipedia.org/wiki/Tent_of_Miracles_(novel)\"\n",
            "               }\n",
            "            }\n",
            "         }\n",
            "      ],\n",
            "      \"__count\": \"1\"\n",
            "   }\n",
            "}\n"
          ]
        }
      ],
      "metadata": {
        "id": "exciting-cement"
      }
    },
    {
      "cell_type": "markdown",
      "source": [
        "## Tarefa 2\n",
        "### Recupere via Python e mostre o autor de Tenda dos Milagres?"
      ],
      "metadata": {
        "id": "threatened-shepherd"
      }
    },
    {
      "cell_type": "code",
      "execution_count": 68,
      "source": [
        "author = json_tent[\"d\"][\"results\"][0][\"http://dbpedia.org/ontology/author\"][\"__deferred\"][\"uri\"]\r\n",
        "print(\"Pagina do autor na DPPedia: \" + author)\r\n",
        "\r\n",
        "bar = str.rindex(author, \"/\")\r\n",
        "author = author.replace(\"_\", \" \")\r\n",
        "print(\"Nome do autor: \" + author[bar+1:])"
      ],
      "outputs": [
        {
          "output_type": "stream",
          "name": "stdout",
          "text": [
            "Pagina do autor na DPPedia: http://dbpedia.org/resource/Jorge_Amado\n",
            "Nome do autor: Jorge Amado\n"
          ]
        }
      ],
      "metadata": {
        "id": "subjective-bachelor"
      }
    },
    {
      "cell_type": "markdown",
      "source": [
        "## Tarefa 3\n",
        "### Quais os termos usados para Aspirina (consulta JSON/MeSH em Python)?"
      ],
      "metadata": {
        "id": "specialized-playback"
      }
    },
    {
      "cell_type": "code",
      "execution_count": 69,
      "source": [
        "url_template = \"https://id.nlm.nih.gov/mesh/lookup/descriptor?label={concept}&match={match}&limit={limit}\"\r\n",
        "\r\n",
        "concept = \"Aspirin\"\r\n",
        "match = \"exact\"\r\n",
        "limit = \"10\"\r\n",
        "\r\n",
        "concept = concept.replace(\" \", \"%20\")\r\n",
        "\r\n",
        "url = url_template.replace(\"{concept}\", concept)\\\r\n",
        "                  .replace(\"{match}\", match)\\\r\n",
        "                  .replace(\"{limit}\", limit)\r\n",
        "\r\n",
        "data = requests.get(url)\r\n",
        "json_mi = data.json()\r\n",
        "print(json.dumps(json_mi, indent=3))"
      ],
      "outputs": [
        {
          "output_type": "stream",
          "name": "stdout",
          "text": [
            "[\n",
            "   {\n",
            "      \"resource\": \"http://id.nlm.nih.gov/mesh/D001241\",\n",
            "      \"label\": \"Aspirin\"\n",
            "   }\n",
            "]\n"
          ]
        }
      ],
      "metadata": {
        "id": "about-sacramento"
      }
    },
    {
      "cell_type": "code",
      "execution_count": 28,
      "source": [
        "uri_mesh = json_mi[0][\"resource\"]\r\n",
        "print(\"Uri do recurso: \" + uri_mesh)\r\n",
        "bar = str.rindex(uri_mesh, \"/\")\r\n",
        "print(\"Código do recurso: \" + uri_mesh[bar+1:])"
      ],
      "outputs": [
        {
          "output_type": "stream",
          "name": "stdout",
          "text": [
            "Uri do recurso: http://id.nlm.nih.gov/mesh/D001241\n",
            "Código do recurso: D001241\n"
          ]
        }
      ],
      "metadata": {}
    },
    {
      "cell_type": "code",
      "execution_count": 13,
      "source": [
        "url_template = \"https://id.nlm.nih.gov/mesh/lookup/details?descriptor={code}\"\r\n",
        "\r\n",
        "code = uri_mesh[bar+1:]\r\n",
        "\r\n",
        "url = url_template.replace(\"{code}\", code)\r\n",
        "\r\n",
        "data = requests.get(url)\r\n",
        "json_mid = data.json()\r\n",
        "print(json.dumps(json_mid, indent=3))"
      ],
      "outputs": [
        {
          "output_type": "stream",
          "name": "stdout",
          "text": [
            "{\n",
            "   \"descriptor\": \"http://id.nlm.nih.gov/mesh/D001241\",\n",
            "   \"terms\": [\n",
            "      {\n",
            "         \"resource\": \"http://id.nlm.nih.gov/mesh/T003713\",\n",
            "         \"label\": \"Aspirin\",\n",
            "         \"preferred\": true\n",
            "      },\n",
            "      {\n",
            "         \"resource\": \"http://id.nlm.nih.gov/mesh/T003714\",\n",
            "         \"label\": \"2-(Acetyloxy)benzoic Acid\",\n",
            "         \"preferred\": false\n",
            "      },\n",
            "      {\n",
            "         \"resource\": \"http://id.nlm.nih.gov/mesh/T003712\",\n",
            "         \"label\": \"Acetylsalicylic Acid\",\n",
            "         \"preferred\": false\n",
            "      },\n",
            "      {\n",
            "         \"resource\": \"http://id.nlm.nih.gov/mesh/T003721\",\n",
            "         \"label\": \"Acetysal\",\n",
            "         \"preferred\": false\n",
            "      },\n",
            "      {\n",
            "         \"resource\": \"http://id.nlm.nih.gov/mesh/T003722\",\n",
            "         \"label\": \"Acylpyrin\",\n",
            "         \"preferred\": false\n",
            "      },\n",
            "      {\n",
            "         \"resource\": \"http://id.nlm.nih.gov/mesh/T003711\",\n",
            "         \"label\": \"Aloxiprimum\",\n",
            "         \"preferred\": false\n",
            "      },\n",
            "      {\n",
            "         \"resource\": \"http://id.nlm.nih.gov/mesh/T003723\",\n",
            "         \"label\": \"Colfarit\",\n",
            "         \"preferred\": false\n",
            "      },\n",
            "      {\n",
            "         \"resource\": \"http://id.nlm.nih.gov/mesh/T003715\",\n",
            "         \"label\": \"Dispril\",\n",
            "         \"preferred\": false\n",
            "      },\n",
            "      {\n",
            "         \"resource\": \"http://id.nlm.nih.gov/mesh/T003719\",\n",
            "         \"label\": \"Easprin\",\n",
            "         \"preferred\": false\n",
            "      },\n",
            "      {\n",
            "         \"resource\": \"http://id.nlm.nih.gov/mesh/T003724\",\n",
            "         \"label\": \"Ecotrin\",\n",
            "         \"preferred\": false\n",
            "      },\n",
            "      {\n",
            "         \"resource\": \"http://id.nlm.nih.gov/mesh/T003725\",\n",
            "         \"label\": \"Endosprin\",\n",
            "         \"preferred\": false\n",
            "      },\n",
            "      {\n",
            "         \"resource\": \"http://id.nlm.nih.gov/mesh/T003726\",\n",
            "         \"label\": \"Magnecyl\",\n",
            "         \"preferred\": false\n",
            "      },\n",
            "      {\n",
            "         \"resource\": \"http://id.nlm.nih.gov/mesh/T003727\",\n",
            "         \"label\": \"Micristin\",\n",
            "         \"preferred\": false\n",
            "      },\n",
            "      {\n",
            "         \"resource\": \"http://id.nlm.nih.gov/mesh/T003717\",\n",
            "         \"label\": \"Polopirin\",\n",
            "         \"preferred\": false\n",
            "      },\n",
            "      {\n",
            "         \"resource\": \"http://id.nlm.nih.gov/mesh/T003728\",\n",
            "         \"label\": \"Polopiryna\",\n",
            "         \"preferred\": false\n",
            "      },\n",
            "      {\n",
            "         \"resource\": \"http://id.nlm.nih.gov/mesh/T003716\",\n",
            "         \"label\": \"Solprin\",\n",
            "         \"preferred\": false\n",
            "      },\n",
            "      {\n",
            "         \"resource\": \"http://id.nlm.nih.gov/mesh/T003718\",\n",
            "         \"label\": \"Solupsan\",\n",
            "         \"preferred\": false\n",
            "      },\n",
            "      {\n",
            "         \"resource\": \"http://id.nlm.nih.gov/mesh/T003720\",\n",
            "         \"label\": \"Zorprin\",\n",
            "         \"preferred\": false\n",
            "      }\n",
            "   ],\n",
            "   \"qualifiers\": [\n",
            "      {\n",
            "         \"resource\": \"http://id.nlm.nih.gov/mesh/Q000008\",\n",
            "         \"label\": \"administration & dosage\"\n",
            "      },\n",
            "      {\n",
            "         \"resource\": \"http://id.nlm.nih.gov/mesh/Q000009\",\n",
            "         \"label\": \"adverse effects\"\n",
            "      },\n",
            "      {\n",
            "         \"resource\": \"http://id.nlm.nih.gov/mesh/Q000819\",\n",
            "         \"label\": \"agonists\"\n",
            "      },\n",
            "      {\n",
            "         \"resource\": \"http://id.nlm.nih.gov/mesh/Q000031\",\n",
            "         \"label\": \"analogs & derivatives\"\n",
            "      },\n",
            "      {\n",
            "         \"resource\": \"http://id.nlm.nih.gov/mesh/Q000032\",\n",
            "         \"label\": \"analysis\"\n",
            "      },\n",
            "      {\n",
            "         \"resource\": \"http://id.nlm.nih.gov/mesh/Q000037\",\n",
            "         \"label\": \"antagonists & inhibitors\"\n",
            "      },\n",
            "      {\n",
            "         \"resource\": \"http://id.nlm.nih.gov/mesh/Q000097\",\n",
            "         \"label\": \"blood\"\n",
            "      },\n",
            "      {\n",
            "         \"resource\": \"http://id.nlm.nih.gov/mesh/Q000134\",\n",
            "         \"label\": \"cerebrospinal fluid\"\n",
            "      },\n",
            "      {\n",
            "         \"resource\": \"http://id.nlm.nih.gov/mesh/Q000138\",\n",
            "         \"label\": \"chemical synthesis\"\n",
            "      },\n",
            "      {\n",
            "         \"resource\": \"http://id.nlm.nih.gov/mesh/Q000737\",\n",
            "         \"label\": \"chemistry\"\n",
            "      },\n",
            "      {\n",
            "         \"resource\": \"http://id.nlm.nih.gov/mesh/Q000145\",\n",
            "         \"label\": \"classification\"\n",
            "      },\n",
            "      {\n",
            "         \"resource\": \"http://id.nlm.nih.gov/mesh/Q000191\",\n",
            "         \"label\": \"economics\"\n",
            "      },\n",
            "      {\n",
            "         \"resource\": \"http://id.nlm.nih.gov/mesh/Q000266\",\n",
            "         \"label\": \"history\"\n",
            "      },\n",
            "      {\n",
            "         \"resource\": \"http://id.nlm.nih.gov/mesh/Q000276\",\n",
            "         \"label\": \"immunology\"\n",
            "      },\n",
            "      {\n",
            "         \"resource\": \"http://id.nlm.nih.gov/mesh/Q000302\",\n",
            "         \"label\": \"isolation & purification\"\n",
            "      },\n",
            "      {\n",
            "         \"resource\": \"http://id.nlm.nih.gov/mesh/Q000378\",\n",
            "         \"label\": \"metabolism\"\n",
            "      },\n",
            "      {\n",
            "         \"resource\": \"http://id.nlm.nih.gov/mesh/Q000493\",\n",
            "         \"label\": \"pharmacokinetics\"\n",
            "      },\n",
            "      {\n",
            "         \"resource\": \"http://id.nlm.nih.gov/mesh/Q000494\",\n",
            "         \"label\": \"pharmacology\"\n",
            "      },\n",
            "      {\n",
            "         \"resource\": \"http://id.nlm.nih.gov/mesh/Q000506\",\n",
            "         \"label\": \"poisoning\"\n",
            "      },\n",
            "      {\n",
            "         \"resource\": \"http://id.nlm.nih.gov/mesh/Q000528\",\n",
            "         \"label\": \"radiation effects\"\n",
            "      },\n",
            "      {\n",
            "         \"resource\": \"http://id.nlm.nih.gov/mesh/Q000592\",\n",
            "         \"label\": \"standards\"\n",
            "      },\n",
            "      {\n",
            "         \"resource\": \"http://id.nlm.nih.gov/mesh/Q000600\",\n",
            "         \"label\": \"supply & distribution\"\n",
            "      },\n",
            "      {\n",
            "         \"resource\": \"http://id.nlm.nih.gov/mesh/Q000627\",\n",
            "         \"label\": \"therapeutic use\"\n",
            "      },\n",
            "      {\n",
            "         \"resource\": \"http://id.nlm.nih.gov/mesh/Q000633\",\n",
            "         \"label\": \"toxicity\"\n",
            "      },\n",
            "      {\n",
            "         \"resource\": \"http://id.nlm.nih.gov/mesh/Q000652\",\n",
            "         \"label\": \"urine\"\n",
            "      }\n",
            "   ],\n",
            "   \"seealso\": []\n",
            "}\n"
          ]
        }
      ],
      "metadata": {}
    },
    {
      "cell_type": "code",
      "execution_count": 62,
      "source": [
        "qtd_labels = len(json_mid[\"terms\"])\r\n",
        "for i in range(qtd_labels):\r\n",
        "    nomes = json_mid[\"terms\"][i][\"label\"]\r\n",
        "    print(nomes)"
      ],
      "outputs": [
        {
          "output_type": "stream",
          "name": "stdout",
          "text": [
            "Aspirin\n",
            "2-(Acetyloxy)benzoic Acid\n",
            "Acetylsalicylic Acid\n",
            "Acetysal\n",
            "Acylpyrin\n",
            "Aloxiprimum\n",
            "Colfarit\n",
            "Dispril\n",
            "Easprin\n",
            "Ecotrin\n",
            "Endosprin\n",
            "Magnecyl\n",
            "Micristin\n",
            "Polopirin\n",
            "Polopiryna\n",
            "Solprin\n",
            "Solupsan\n",
            "Zorprin\n"
          ]
        }
      ],
      "metadata": {}
    },
    {
      "cell_type": "markdown",
      "source": [
        "## Tarefa 4\n",
        "### Escolha algum lugar no OpenStreetMap e elabore a mesma sequência de três chamadas de serviços para o seu conceito."
      ],
      "metadata": {
        "id": "uniform-worst"
      }
    },
    {
      "cell_type": "code",
      "execution_count": null,
      "source": [],
      "outputs": [],
      "metadata": {
        "id": "virgin-volunteer"
      }
    }
  ]
}