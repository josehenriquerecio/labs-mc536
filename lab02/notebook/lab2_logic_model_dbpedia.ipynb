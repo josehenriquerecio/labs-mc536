{
  "nbformat": 4,
  "nbformat_minor": 5,
  "metadata": {
    "kernelspec": {
      "display_name": "Python 3",
      "language": "python",
      "name": "python3"
    },
    "language_info": {
      "codemirror_mode": {
        "name": "ipython",
        "version": 3
      },
      "file_extension": ".py",
      "mimetype": "text/x-python",
      "name": "python",
      "nbconvert_exporter": "python",
      "pygments_lexer": "ipython3",
      "version": "3.8.10"
    },
    "colab": {
      "name": "lab2-logic-model-dbpedia.ipynb",
      "provenance": []
    }
  },
  "cells": [
    {
      "cell_type": "markdown",
      "metadata": {
        "id": "monetary-oakland"
      },
      "source": [
        "# Laboratório 2"
      ],
      "id": "monetary-oakland"
    },
    {
      "cell_type": "markdown",
      "metadata": {
        "id": "bridal-netscape"
      },
      "source": [
        "## Tarefa 1\n",
        "\n",
        "### Carregue o nó de Tenda dos Milagres (da versão em inglês Tent of Miracles) em Python e mostre o conteúdo JSON."
      ],
      "id": "bridal-netscape"
    },
    {
      "cell_type": "code",
      "metadata": {
        "id": "exciting-cement"
      },
      "source": [
        ""
      ],
      "id": "exciting-cement",
      "execution_count": null,
      "outputs": []
    },
    {
      "cell_type": "markdown",
      "metadata": {
        "id": "threatened-shepherd"
      },
      "source": [
        "## Tarefa 2\n",
        "### Recupere via Python e mostre o autor de Tenda dos Milagres?"
      ],
      "id": "threatened-shepherd"
    },
    {
      "cell_type": "code",
      "metadata": {
        "id": "subjective-bachelor"
      },
      "source": [
        ""
      ],
      "id": "subjective-bachelor",
      "execution_count": null,
      "outputs": []
    },
    {
      "cell_type": "markdown",
      "metadata": {
        "id": "specialized-playback"
      },
      "source": [
        "## Tarefa 3\n",
        "### Quais os termos usados para Aspirina (consulta JSON/MeSH em Python)?"
      ],
      "id": "specialized-playback"
    },
    {
      "cell_type": "code",
      "metadata": {
        "id": "about-sacramento"
      },
      "source": [
        ""
      ],
      "id": "about-sacramento",
      "execution_count": null,
      "outputs": []
    },
    {
      "cell_type": "markdown",
      "metadata": {
        "id": "uniform-worst"
      },
      "source": [
        "## Tarefa 4\n",
        "### Escolha algum lugar no OpenStreetMap e elabore a mesma sequência de três chamadas de serviços para o seu conceito."
      ],
      "id": "uniform-worst"
    },
    {
      "cell_type": "code",
      "metadata": {
        "id": "virgin-volunteer"
      },
      "source": [
        ""
      ],
      "id": "virgin-volunteer",
      "execution_count": null,
      "outputs": []
    }
  ]
}